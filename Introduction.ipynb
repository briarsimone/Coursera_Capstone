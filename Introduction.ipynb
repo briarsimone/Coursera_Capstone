{
 "cells": [
  {
   "cell_type": "markdown",
   "metadata": {
    "collapsed": true
   },
   "source": [
    "# Problem and Background \n",
    "### Minneapolis is a city rich in culture. Though overlooked by most, it is a great city, diverse in its roots. Throughout this project, I will explore how diverse Minneapolis is in its types of cuisines. This data could help people who visit Minneapolis by showing them where they should go for different types of cuisine. Additionally, it will show current residents which types are lacking as well as which are thriving. "
   ]
  },
  {
   "cell_type": "markdown",
   "metadata": {},
   "source": [
    "# Data Source\n",
    "### The data I used was gathered from a public website that provide loactional data. The source includes the zip code, city name, county name and zip code type for all cities in Minnesota. My main goal was to retrieve city and zip code data, and this source had the most complete information of any I was able to locate. "
   ]
  },
  {
   "cell_type": "code",
   "execution_count": null,
   "metadata": {},
   "outputs": [],
   "source": []
  }
 ],
 "metadata": {
  "kernelspec": {
   "display_name": "Python 3.7",
   "language": "python",
   "name": "python3"
  },
  "language_info": {
   "codemirror_mode": {
    "name": "ipython",
    "version": 3
   },
   "file_extension": ".py",
   "mimetype": "text/x-python",
   "name": "python",
   "nbconvert_exporter": "python",
   "pygments_lexer": "ipython3",
   "version": "3.7.9"
  }
 },
 "nbformat": 4,
 "nbformat_minor": 1
}
